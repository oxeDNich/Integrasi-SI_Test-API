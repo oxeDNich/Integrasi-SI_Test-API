{
 "cells": [
  {
   "cell_type": "code",
   "execution_count": 3,
   "id": "0501a1e9-197e-40a3-91bb-45a4e46592d7",
   "metadata": {
    "scrolled": true
   },
   "outputs": [
    {
     "name": "stdout",
     "output_type": "stream",
     "text": [
      "Jarak: 10.864700000000001 KM, Waktu tempuh: 9.84 Menit\n"
     ]
    }
   ],
   "source": [
    "import requests\n",
    "\n",
    "def get_route_summary(start_coords, end_coords):\n",
    "    url = \"https://api.openrouteservice.org/v2/directions/driving-car\"\n",
    "    headers = {\n",
    "        \"Authorization\": \"5b3ce3597851110001cf6248facebd10b4a847afa7b55ddb936154e9\",\n",
    "        \"Content-Type\": \"application/json\"\n",
    "    }\n",
    "    json_data = {\n",
    "        \"coordinates\": [\n",
    "            [start_coords[0], start_coords[1]],\n",
    "            [end_coords[0], end_coords[1]]\n",
    "        ]\n",
    "    }\n",
    "    response = requests.post(url, json=json_data, headers=headers)\n",
    "    if response.status_code == 200:\n",
    "        data = response.json()\n",
    "        summary = data.get(\"routes\", [{}])[0].get(\"summary\", {})\n",
    "        if summary:\n",
    "            distance = summary.get(\"distance\", \"N/A\")\n",
    "            duration = summary.get(\"duration\", \"N/A\")\n",
    "            return f\"Jarak: {distance/1000} KM, Waktu tempuh: {duration/60:} Menit\"\n",
    "        return \"No route found\"\n",
    "    else:\n",
    "        return f\"Error: {response.status_code}\\n{response.text}\"\n",
    "\n",
    "# Example coordinates (replace with your own)\n",
    "start_coords = (115.16241098215373, -8.798849625325538)\n",
    "end_coords = (115.22233756809698, -8.77652632551185)\n",
    "\n",
    "# Fetch and print route summary\n",
    "route_summary = get_route_summary(start_coords, end_coords)\n",
    "print(route_summary)\n"
   ]
  },
  {
   "cell_type": "code",
   "execution_count": null,
   "id": "1a9526a3-9de6-4e7d-a4d3-7d354b67e547",
   "metadata": {},
   "outputs": [],
   "source": []
  }
 ],
 "metadata": {
  "kernelspec": {
   "display_name": "Python 3 (ipykernel)",
   "language": "python",
   "name": "python3"
  },
  "language_info": {
   "codemirror_mode": {
    "name": "ipython",
    "version": 3
   },
   "file_extension": ".py",
   "mimetype": "text/x-python",
   "name": "python",
   "nbconvert_exporter": "python",
   "pygments_lexer": "ipython3",
   "version": "3.11.7"
  }
 },
 "nbformat": 4,
 "nbformat_minor": 5
}
