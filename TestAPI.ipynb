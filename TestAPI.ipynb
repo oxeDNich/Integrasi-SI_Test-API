{
  "nbformat": 4,
  "nbformat_minor": 0,
  "metadata": {
    "colab": {
      "provenance": [],
      "authorship_tag": "ABX9TyNKjBrNlF5OZxhfC0PkZAIs",
      "include_colab_link": true
    },
    "kernelspec": {
      "name": "python3",
      "display_name": "Python 3"
    },
    "language_info": {
      "name": "python"
    }
  },
  "cells": [
    {
      "cell_type": "markdown",
      "metadata": {
        "id": "view-in-github",
        "colab_type": "text"
      },
      "source": [
        "<a href=\"https://colab.research.google.com/github/oxeDNich/Integrasi-SI_Test-API/blob/main/TestAPI.ipynb\" target=\"_parent\"><img src=\"https://colab.research.google.com/assets/colab-badge.svg\" alt=\"Open In Colab\"/></a>"
      ]
    },
    {
      "cell_type": "code",
      "execution_count": 1,
      "metadata": {
        "colab": {
          "base_uri": "https://localhost:8080/"
        },
        "id": "2HAsOo3QrH2x",
        "outputId": "cb5d7bff-b6e6-40e5-cc22-1af923f6196e"
      },
      "outputs": [
        {
          "output_type": "stream",
          "name": "stdout",
          "text": [
            "Jarak: 10.864700000000001 KM, Waktu tempuh: 9.835 Menit\n"
          ]
        }
      ],
      "source": [
        "import requests\n",
        "\n",
        "def get_route_summary(start_coords, end_coords):\n",
        "    url = \"https://api.openrouteservice.org/v2/directions/driving-car\"\n",
        "    headers = {\n",
        "        \"Authorization\": \"5b3ce3597851110001cf6248facebd10b4a847afa7b55ddb936154e9\",\n",
        "        \"Content-Type\": \"application/json\"\n",
        "    }\n",
        "    json_data = {\n",
        "        \"coordinates\": [\n",
        "            [start_coords[0], start_coords[1]],\n",
        "            [end_coords[0], end_coords[1]]\n",
        "        ]\n",
        "    }\n",
        "    response = requests.post(url, json=json_data, headers=headers)\n",
        "    if response.status_code == 200:\n",
        "        data = response.json()\n",
        "        summary = data.get(\"routes\", [{}])[0].get(\"summary\", {})\n",
        "        if summary:\n",
        "            distance = summary.get(\"distance\", \"N/A\")\n",
        "            duration = summary.get(\"duration\", \"N/A\")\n",
        "            return f\"Jarak: {distance/1000} KM, Waktu tempuh: {duration/60:} Menit\"\n",
        "        return \"No route found\"\n",
        "    else:\n",
        "        return f\"Error: {response.status_code}\\n{response.text}\"\n",
        "\n",
        "# Example coordinates (replace with your own)\n",
        "start_coords = (115.16241098215373, -8.798849625325538)\n",
        "end_coords = (115.22233756809698, -8.77652632551185)\n",
        "\n",
        "# Fetch and print route summary\n",
        "route_summary = get_route_summary(start_coords, end_coords)\n",
        "print(route_summary)\n"
      ]
    }
  ]
}